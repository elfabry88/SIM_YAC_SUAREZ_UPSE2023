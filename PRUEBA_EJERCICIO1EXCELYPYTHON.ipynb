{
  "nbformat": 4,
  "nbformat_minor": 0,
  "metadata": {
    "colab": {
      "provenance": [],
      "authorship_tag": "ABX9TyPMuCIb6+GN+wyvYy3g6esF",
      "include_colab_link": true
    },
    "kernelspec": {
      "name": "python3",
      "display_name": "Python 3"
    },
    "language_info": {
      "name": "python"
    }
  },
  "cells": [
    {
      "cell_type": "markdown",
      "metadata": {
        "id": "view-in-github",
        "colab_type": "text"
      },
      "source": [
        "<a href=\"https://colab.research.google.com/github/elfabry88/SIM_YAC_SUAREZ_UPSE2023/blob/main/PRUEBA_EJERCICIO1EXCELYPYTHON.ipynb\" target=\"_parent\"><img src=\"https://colab.research.google.com/assets/colab-badge.svg\" alt=\"Open In Colab\"/></a>"
      ]
    },
    {
      "cell_type": "code",
      "execution_count": 178,
      "metadata": {
        "id": "wBLsoKdC9ZIh"
      },
      "outputs": [],
      "source": [
        "import numpy as np\n",
        "import matplotlib.pyplot as plt  \n",
        "import plotly.express as px  \n",
        "import math\n",
        "import pandas as pd   "
      ]
    },
    {
      "cell_type": "code",
      "source": [
        "#Pini = [0, 4000, 4000, 4000, 4000, 0]\n",
        "#Nodos=\n",
        "longitudT=1000\n",
        "dx=10"
      ],
      "metadata": {
        "id": "s9ut-X36-Sc6"
      },
      "execution_count": 193,
      "outputs": []
    },
    {
      "cell_type": "code",
      "source": [
        "VecDistancia=np.arange(0,longitudT+1,dx) #Crear un vector de las distancias\n",
        "Pini=np.ones_like(VecDistancia) #Vector inical de Presiones "
      ],
      "metadata": {
        "id": "p5d3DpnqEGR1"
      },
      "execution_count": 194,
      "outputs": []
    },
    {
      "cell_type": "code",
      "source": [
        "Pyac=4000\n",
        "PFrontd=0 #Frontera derecha\n",
        "PFronti=0 #Frontera izquierda\n",
        "dt = 10\n",
        "tf = 10000"
      ],
      "metadata": {
        "id": "Oi51HgzH-gOk"
      },
      "execution_count": 195,
      "outputs": []
    },
    {
      "cell_type": "code",
      "source": [
        "VecTiempo=np.arange(0,math.floor(tf/dt)*dt,dt) #Crear un vector de tiempos\n",
        "Matriz=np.zeros((math.floor(tf/dt),len(VecDistancia))) #LLENA LA MATRIZ DE CEROS\n",
        "Pdt=np.zeros_like(VecDistancia)"
      ],
      "metadata": {
        "id": "-p93rQWkBgcn"
      },
      "execution_count": 196,
      "outputs": []
    },
    {
      "cell_type": "code",
      "source": [
        "Pini=np.ones_like(VecDistancia)  #P01 es Pini - P0in es P0ini - Distance es VecDistancia - PXX es Matriz\n",
        "Pini=Pini*Pyac\n",
        "Pini[0]=PFronti\n",
        "Pini[len(Pini)-1]=PFrontd\n",
        "P0ini=Pini #Condicion inicial \n",
        "Pdt=Pini #Vector de resultados dt\n",
        "t=dt #primera interaccion"
      ],
      "metadata": {
        "id": "cNoWVvy2REeK"
      },
      "execution_count": 197,
      "outputs": []
    },
    {
      "cell_type": "code",
      "source": [
        "def Presdt(P1,P2,P3,deltat,deltax):\n",
        "  return(((P1-2*P2+P3)/(deltax*deltax))*deltat)+P2 "
      ],
      "metadata": {
        "id": "L0XX6QtnR7XI"
      },
      "execution_count": 198,
      "outputs": []
    },
    {
      "cell_type": "code",
      "source": [
        "Matriz[0]"
      ],
      "metadata": {
        "colab": {
          "base_uri": "https://localhost:8080/"
        },
        "id": "uCFC50yjSBE1",
        "outputId": "b18f0d19-3a71-491d-b6d3-288ddfda73d1"
      },
      "execution_count": 199,
      "outputs": [
        {
          "output_type": "execute_result",
          "data": {
            "text/plain": [
              "array([0., 0., 0., 0., 0., 0., 0., 0., 0., 0., 0., 0., 0., 0., 0., 0., 0.,\n",
              "       0., 0., 0., 0., 0., 0., 0., 0., 0., 0., 0., 0., 0., 0., 0., 0., 0.,\n",
              "       0., 0., 0., 0., 0., 0., 0., 0., 0., 0., 0., 0., 0., 0., 0., 0., 0.,\n",
              "       0., 0., 0., 0., 0., 0., 0., 0., 0., 0., 0., 0., 0., 0., 0., 0., 0.,\n",
              "       0., 0., 0., 0., 0., 0., 0., 0., 0., 0., 0., 0., 0., 0., 0., 0., 0.,\n",
              "       0., 0., 0., 0., 0., 0., 0., 0., 0., 0., 0., 0., 0., 0., 0., 0.])"
            ]
          },
          "metadata": {},
          "execution_count": 199
        }
      ]
    },
    {
      "cell_type": "code",
      "source": [
        "Matriz[0]=Pini\n",
        "while t<tf:\n",
        "    for i in range(0,len(P0ini)-1):\n",
        "       if i==0:\n",
        "        Pdt[i]=P0ini[0]\n",
        "       elif i==len(P0ini)-1:\n",
        "        Pdt[i]=P0ini[len(P0ini)-1]\n",
        "       else:\n",
        "        Pdt[i]=Presdt(P0ini[i-1],P0ini[i],P0ini[i+1],dt,dx)\n",
        "    Matriz[math.floor(t/dt)]=Pdt\n",
        "    t=t+dt\n",
        "    P0ini=Pdt\n",
        "    Pini=np.append(Pini,Pdt)"
      ],
      "metadata": {
        "id": "K-GEmu9QS38P"
      },
      "execution_count": 200,
      "outputs": []
    },
    {
      "cell_type": "code",
      "source": [
        "Matriz"
      ],
      "metadata": {
        "colab": {
          "base_uri": "https://localhost:8080/"
        },
        "id": "yXfI3VxWTbp3",
        "outputId": "e3ba5f2d-fe35-47de-d1d7-afa1d0d78fb6"
      },
      "execution_count": 201,
      "outputs": [
        {
          "output_type": "execute_result",
          "data": {
            "text/plain": [
              "array([[   0., 4000., 4000., ..., 4000., 4000.,    0.],\n",
              "       [   0., 3600., 3960., ..., 3999., 3599.,    0.],\n",
              "       [   0., 3276., 3895., ..., 3958., 3275.,    0.],\n",
              "       ...,\n",
              "       [   0.,  168.,  336., ...,  335.,  167.,    0.],\n",
              "       [   0.,  168.,  336., ...,  334.,  167.,    0.],\n",
              "       [   0.,  168.,  336., ...,  334.,  167.,    0.]])"
            ]
          },
          "metadata": {},
          "execution_count": 201
        }
      ]
    },
    {
      "cell_type": "code",
      "source": [],
      "metadata": {
        "id": "-OEp3i_VUxUF"
      },
      "execution_count": null,
      "outputs": []
    }
  ]
}