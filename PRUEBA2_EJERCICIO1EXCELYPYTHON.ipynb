{
  "nbformat": 4,
  "nbformat_minor": 0,
  "metadata": {
    "colab": {
      "provenance": [],
      "authorship_tag": "ABX9TyMP27PGcWp1FpkgqkcCkqWx",
      "include_colab_link": true
    },
    "kernelspec": {
      "name": "python3",
      "display_name": "Python 3"
    },
    "language_info": {
      "name": "python"
    }
  },
  "cells": [
    {
      "cell_type": "markdown",
      "metadata": {
        "id": "view-in-github",
        "colab_type": "text"
      },
      "source": [
        "<a href=\"https://colab.research.google.com/github/elfabry88/SIM_YAC_SUAREZ_UPSE2023/blob/main/PRUEBA2_EJERCICIO1EXCELYPYTHON.ipynb\" target=\"_parent\"><img src=\"https://colab.research.google.com/assets/colab-badge.svg\" alt=\"Open In Colab\"/></a>"
      ]
    },
    {
      "cell_type": "code",
      "execution_count": 96,
      "metadata": {
        "id": "wBLsoKdC9ZIh"
      },
      "outputs": [],
      "source": [
        "import numpy as np\n",
        "import matplotlib.pyplot as plt  \n",
        "import math "
      ]
    },
    {
      "cell_type": "code",
      "source": [
        "#Pini = [0, 4000, 4000, 4000, 4000, 0]\n",
        "#Nodos=\n",
        "longitudT=1000\n",
        "dx=200\n"
      ],
      "metadata": {
        "id": "s9ut-X36-Sc6"
      },
      "execution_count": 97,
      "outputs": []
    },
    {
      "cell_type": "code",
      "source": [
        "VecDistancia=np.arange(0,longitudT+1,dx) #Crear un vector de las distancias\n",
        "Pini=np.ones_like(VecDistancia) #Vector inical de Presiones "
      ],
      "metadata": {
        "id": "p5d3DpnqEGR1"
      },
      "execution_count": 98,
      "outputs": []
    },
    {
      "cell_type": "code",
      "source": [
        "Pyac=4000\n",
        "PFrontd=0 #Frontera derecha\n",
        "PFronti=0 #Frontera izquierda\n",
        "dt = 2500\n",
        "tf = 20000"
      ],
      "metadata": {
        "id": "Oi51HgzH-gOk"
      },
      "execution_count": 99,
      "outputs": []
    },
    {
      "cell_type": "code",
      "source": [
        "VecTiempo=np.arange(0,math.floor(tf/dt)*dt,dt) #Crear un vector de tiempos\n",
        "Matriz=np.zeros((math.floor(tf/dt),len(VecDistancia))) #LLENA LA MATRIZ DE CEROS\n",
        "Pdt=np.zeros_like(VecDistancia)"
      ],
      "metadata": {
        "id": "-p93rQWkBgcn"
      },
      "execution_count": 90,
      "outputs": []
    },
    {
      "cell_type": "code",
      "source": [
        "Pini=np.ones_like(VecDistancia)  #P01 es Pini - P0in es P0ini - Distance es VecDistancia - PXX es Matriz\n",
        "Pini=Pini*Pyac\n",
        "Pini[0]=PFronti\n",
        "Pini[len(Pini)-1]=PFrontd\n",
        "P0ini=Pini #Condicion inicial \n",
        "Pdt=Pini #Vector de resultados dt\n",
        "t=dt #primera interaccion"
      ],
      "metadata": {
        "id": "cNoWVvy2REeK"
      },
      "execution_count": 91,
      "outputs": []
    },
    {
      "cell_type": "code",
      "source": [
        "def Presdt(P1,P2,P3,deltat,deltax):\n",
        "  return(((P1-2*P2+P3)/(deltax*deltax))*deltat)+P2 "
      ],
      "metadata": {
        "id": "L0XX6QtnR7XI"
      },
      "execution_count": 92,
      "outputs": []
    },
    {
      "cell_type": "code",
      "source": [
        "Matriz[0]"
      ],
      "metadata": {
        "colab": {
          "base_uri": "https://localhost:8080/"
        },
        "id": "uCFC50yjSBE1",
        "outputId": "f12356c3-69d2-49d8-fb35-61d604d2df30"
      },
      "execution_count": 93,
      "outputs": [
        {
          "output_type": "execute_result",
          "data": {
            "text/plain": [
              "array([0., 0., 0., 0., 0., 0., 0., 0., 0., 0., 0.])"
            ]
          },
          "metadata": {},
          "execution_count": 93
        }
      ]
    },
    {
      "cell_type": "code",
      "source": [
        "Matriz[0]=Pini\n",
        "while t<tf:\n",
        "    for i in range(0,len(P0ini)-1):\n",
        "       if i==0:\n",
        "        Pdt[i]=P0ini[0]\n",
        "       elif i==len(P0ini)-1:\n",
        "        Pdt[i]=P0ini[len(P0ini)-1]\n",
        "       else:\n",
        "        Pdt[i]=Presdt(P0ini[i-1],P0ini[i],P0ini[i+1],dt,dx)\n",
        "    Matriz[math.floor(t/dt)]=Pdt\n",
        "    t=t+dt\n",
        "    P0ini=Pdt\n",
        "    Pini=np.append(Pini,Pdt)"
      ],
      "metadata": {
        "id": "K-GEmu9QS38P"
      },
      "execution_count": 94,
      "outputs": []
    },
    {
      "cell_type": "code",
      "source": [
        "Matriz"
      ],
      "metadata": {
        "colab": {
          "base_uri": "https://localhost:8080/"
        },
        "id": "yXfI3VxWTbp3",
        "outputId": "a8c152d0-8f53-4827-da64-d78746115ac0"
      },
      "execution_count": 95,
      "outputs": [
        {
          "output_type": "execute_result",
          "data": {
            "text/plain": [
              "array([[   0., 4000., 4000., 4000., 4000., 4000., 4000., 4000., 4000.,\n",
              "        4000.,    0.],\n",
              "       [   0., 3200., 3840., 3968., 3993., 3998., 3999., 3999., 3999.,\n",
              "        3199.,    0.],\n",
              "       [   0., 2688., 3635., 3906., 3976., 3993., 3997., 3998., 3838.,\n",
              "        2687.,    0.],\n",
              "       [   0., 2339., 3430., 3824., 3949., 3985., 3994., 3965., 3633.,\n",
              "        2338.,    0.],\n",
              "       [   0., 2089., 3240., 3732., 3912., 3972., 3983., 3902., 3427.,\n",
              "        2088.,    0.],\n",
              "       [   0., 1901., 3070., 3635., 3868., 3953., 3960., 3818., 3237.,\n",
              "        1900.,    0.],\n",
              "       [   0., 1754., 2919., 3538., 3819., 3927., 3925., 3723., 3066.,\n",
              "        1753.,    0.],\n",
              "       [   0., 1636., 2786., 3443., 3765., 3894., 3878., 3622., 2914.,\n",
              "        1634.,    0.],\n",
              "       [   0., 1538., 2667., 3352., 3708., 3853., 3821., 3520., 2779.,\n",
              "        1536.,    0.],\n",
              "       [   0., 1456., 2561., 3265., 3648., 3805., 3757., 3419., 2658.,\n",
              "        1453.,    0.]])"
            ]
          },
          "metadata": {},
          "execution_count": 95
        }
      ]
    },
    {
      "cell_type": "code",
      "source": [],
      "metadata": {
        "id": "-OEp3i_VUxUF"
      },
      "execution_count": null,
      "outputs": []
    }
  ]
}