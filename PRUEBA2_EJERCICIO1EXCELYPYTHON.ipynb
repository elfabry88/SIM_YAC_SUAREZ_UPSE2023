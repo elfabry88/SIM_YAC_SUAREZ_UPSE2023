{
  "nbformat": 4,
  "nbformat_minor": 0,
  "metadata": {
    "colab": {
      "provenance": [],
      "authorship_tag": "ABX9TyONNfz3Pi8/mGx3QT5y8jdM",
      "include_colab_link": true
    },
    "kernelspec": {
      "name": "python3",
      "display_name": "Python 3"
    },
    "language_info": {
      "name": "python"
    }
  },
  "cells": [
    {
      "cell_type": "markdown",
      "metadata": {
        "id": "view-in-github",
        "colab_type": "text"
      },
      "source": [
        "<a href=\"https://colab.research.google.com/github/elfabry88/SIM_YAC_SUAREZ_UPSE2023/blob/main/PRUEBA2_EJERCICIO1EXCELYPYTHON.ipynb\" target=\"_parent\"><img src=\"https://colab.research.google.com/assets/colab-badge.svg\" alt=\"Open In Colab\"/></a>"
      ]
    },
    {
      "cell_type": "code",
      "execution_count": 232,
      "metadata": {
        "id": "wBLsoKdC9ZIh"
      },
      "outputs": [],
      "source": [
        "import numpy as np\n",
        "import matplotlib.pyplot as plt  \n",
        "import math "
      ]
    },
    {
      "cell_type": "code",
      "source": [
        "#Pini = [0, 4000, 4000, 4000, 4000, 0]\n",
        "#Nodos=\n",
        "longitudT=1000\n",
        "dx=142.85"
      ],
      "metadata": {
        "id": "s9ut-X36-Sc6"
      },
      "execution_count": 233,
      "outputs": []
    },
    {
      "cell_type": "code",
      "source": [
        "VecDistancia=np.arange(0,longitudT+1,dx) #Crear un vector de las distancias\n",
        "Pini=np.ones_like(VecDistancia) #Vector inical de Presiones "
      ],
      "metadata": {
        "id": "p5d3DpnqEGR1"
      },
      "execution_count": 234,
      "outputs": []
    },
    {
      "cell_type": "code",
      "source": [
        "Pyac=4000\n",
        "PFrontd=0 #Frontera derecha\n",
        "PFronti=0 #Frontera izquierda\n",
        "dt = 2000\n",
        "tf = 20000"
      ],
      "metadata": {
        "id": "Oi51HgzH-gOk"
      },
      "execution_count": 235,
      "outputs": []
    },
    {
      "cell_type": "code",
      "source": [
        "VecTiempo=np.arange(0,math.floor(tf/dt)*dt,dt) #Crear un vector de tiempos\n",
        "Matriz=np.zeros((math.floor(tf/dt),len(VecDistancia))) #LLENA LA MATRIZ DE CEROS\n",
        "Pdt=np.zeros_like(VecDistancia)"
      ],
      "metadata": {
        "id": "-p93rQWkBgcn"
      },
      "execution_count": 236,
      "outputs": []
    },
    {
      "cell_type": "code",
      "source": [
        "Pini=np.ones_like(VecDistancia)  #P01 es Pini - P0in es P0ini - Distance es VecDistancia - PXX es Matriz\n",
        "Pini=Pini*Pyac\n",
        "Pini[0]=PFronti\n",
        "Pini[len(Pini)-1]=PFrontd\n",
        "P0ini=Pini #Condicion inicial \n",
        "Pdt=Pini #Vector de resultados dt\n",
        "t=dt #primera interaccion"
      ],
      "metadata": {
        "id": "cNoWVvy2REeK"
      },
      "execution_count": 237,
      "outputs": []
    },
    {
      "cell_type": "code",
      "source": [
        "def Presdt(P1,P2,P3,deltat,deltax):\n",
        "  return(((P1-2*P2+P3)/(deltax*deltax))*deltat)+P2 "
      ],
      "metadata": {
        "id": "L0XX6QtnR7XI"
      },
      "execution_count": 238,
      "outputs": []
    },
    {
      "cell_type": "code",
      "source": [
        "Matriz[0]"
      ],
      "metadata": {
        "colab": {
          "base_uri": "https://localhost:8080/"
        },
        "id": "uCFC50yjSBE1",
        "outputId": "10e16e0e-1fee-4ba4-f8c8-a46b42b7aaad"
      },
      "execution_count": 239,
      "outputs": [
        {
          "output_type": "execute_result",
          "data": {
            "text/plain": [
              "array([0., 0., 0., 0., 0., 0., 0., 0.])"
            ]
          },
          "metadata": {},
          "execution_count": 239
        }
      ]
    },
    {
      "cell_type": "code",
      "source": [
        "Matriz[0]=Pini\n",
        "while t<tf:\n",
        "    for i in range(0,len(P0ini)-1):\n",
        "       if i==0:\n",
        "        Pdt[i]=P0ini[0]\n",
        "       elif i==len(P0ini)-1:\n",
        "        Pdt[i]=P0ini[len(P0ini)-1]\n",
        "       else:\n",
        "        Pdt[i]=Presdt(P0ini[i-1],P0ini[i],P0ini[i+1],dt,dx)\n",
        "    Matriz[math.floor(t/dt)]=Pdt\n",
        "    t=t+dt\n",
        "    P0ini=Pdt\n",
        "    Pini=np.append(Pini,Pdt)"
      ],
      "metadata": {
        "id": "K-GEmu9QS38P"
      },
      "execution_count": 240,
      "outputs": []
    },
    {
      "cell_type": "code",
      "source": [
        "Matriz"
      ],
      "metadata": {
        "colab": {
          "base_uri": "https://localhost:8080/"
        },
        "id": "yXfI3VxWTbp3",
        "outputId": "8e841af7-0dc9-418b-db2c-9fbbcb7d37f4"
      },
      "execution_count": 241,
      "outputs": [
        {
          "output_type": "execute_result",
          "data": {
            "text/plain": [
              "array([[   0.        , 4000.        , 4000.        , 4000.        ,\n",
              "        4000.        , 4000.        , 4000.        ,    0.        ],\n",
              "       [   0.        , 3607.96079706, 3961.57631584, 3996.23410237,\n",
              "        3999.63090512, 3999.96382508, 3607.95725156,    0.        ],\n",
              "       [   0.        , 3289.00306481, 3899.05434828, 3987.042454  ,\n",
              "        3998.42974296, 3961.39298384, 3288.98224597,    0.        ],\n",
              "       [   0.        , 3026.43953454, 3822.15324097, 3971.99776101,\n",
              "        3992.20918429, 3898.51043108, 3026.36948739,    0.        ],\n",
              "       [   0.        , 2807.80654064, 3737.42355455, 3950.98810734,\n",
              "        3978.98571862, 3820.91943787, 2807.6292993 ,    0.        ],\n",
              "       [   0.        , 2623.72555938, 3649.20165523, 3924.15411761,\n",
              "        3958.11963965, 3735.05403774, 2623.35082495,    0.        ],\n",
              "       [   0.        , 2467.08144793, 3560.29032531, 3891.82085388,\n",
              "        3929.75909368, 3645.17923111, 2466.38593181,    0.        ],\n",
              "       [   0.        , 2332.42847106, 3472.44107069, 3854.43584422,\n",
              "        3894.48506138, 3554.08034949, 2331.26065123,    0.        ],\n",
              "       [   0.        , 2215.56002911, 3386.69364189, 3812.51773997,\n",
              "        3853.08846256, 3463.53776011, 2213.74851316,    0.        ],\n",
              "       [   0.        , 2113.19600416, 3303.61332718, 3766.61644832,\n",
              "        3806.43357095, 3374.65331515, 2110.55951083,    0.        ]])"
            ]
          },
          "metadata": {},
          "execution_count": 241
        }
      ]
    },
    {
      "cell_type": "code",
      "source": [],
      "metadata": {
        "id": "-OEp3i_VUxUF"
      },
      "execution_count": null,
      "outputs": []
    }
  ]
}