{
  "nbformat": 4,
  "nbformat_minor": 0,
  "metadata": {
    "colab": {
      "provenance": [],
      "authorship_tag": "ABX9TyPRuxeZNviSpATG0H1MfUN3",
      "include_colab_link": true
    },
    "kernelspec": {
      "name": "python3",
      "display_name": "Python 3"
    },
    "language_info": {
      "name": "python"
    }
  },
  "cells": [
    {
      "cell_type": "markdown",
      "metadata": {
        "id": "view-in-github",
        "colab_type": "text"
      },
      "source": [
        "<a href=\"https://colab.research.google.com/github/elfabry88/SIM_YAC_SUAREZ_UPSE2023/blob/main/ExplicitaPresion2.ipynb\" target=\"_parent\"><img src=\"https://colab.research.google.com/assets/colab-badge.svg\" alt=\"Open In Colab\"/></a>"
      ]
    },
    {
      "cell_type": "code",
      "execution_count": 25,
      "metadata": {
        "id": "ToITZ-L2Yt0x"
      },
      "outputs": [],
      "source": [
        "import numpy as np\n",
        "import math"
      ]
    },
    {
      "cell_type": "code",
      "source": [
        "L=30000                 #Longitud total del yacimiento\n",
        "dx=2000                 #espacios entre nodos\n",
        "Tiempo=100000           # tiempo en días es obtenido por (numero de iteraciones * dt= numero de días)\n",
        "DT=200                   # intervalo de tiempo por día\n",
        "K=50                    #Permeabilidad MD\n",
        "por=0.5                 #porosidad\n",
        "vis=1 # centipoise      #viscosidad\n",
        "Beta=0.7\n",
        "CompTotal=1.2**(-6)       #ps1-1 #compresibilidad total\n",
        "A=200000#ft^2           #area de yacimiento"
      ],
      "metadata": {
        "id": "x1TXDpOlYzoi"
      },
      "execution_count": 26,
      "outputs": []
    },
    {
      "cell_type": "code",
      "source": [
        "Alpha=K/(vis*por*CompTotal)  #\n",
        "Alpha\n",
        "                        #Se introduce Eta en la ecuacion del explicito la cual incluye alfa\n",
        "Eta=(Alpha*DT)/(dx**2)  #Eta es < que 0.5 para que el sistema sea estable\n",
        "Eta"
      ],
      "metadata": {
        "colab": {
          "base_uri": "https://localhost:8080/"
        },
        "id": "l3QvmyStY0VX",
        "outputId": "acb2a131-551c-4886-d658-1d3a48876dd5"
      },
      "execution_count": 27,
      "outputs": [
        {
          "output_type": "execute_result",
          "data": {
            "text/plain": [
              "0.014929919999999996"
            ]
          },
          "metadata": {},
          "execution_count": 27
        }
      ]
    },
    {
      "cell_type": "code",
      "source": [
        "#ESQUEMA EXPLICITO\n",
        "def Presdt(P0,P1,P2,Eta):     # son las definiciones de variables de la ecuación explicita ADICIONAL ETA\n",
        "  Pdt=P1+Eta*(P0-(2*P1)+P2)   # Ecuacion del Metodo explicito con Eta\n",
        "  return(Pdt)\n",
        "\n",
        "Pexplicita=np.zeros((Tiempo//DT,L//dx)) #Crear Matriz vacia que guardara los resultados de acuerdo a filas y columnas (tiempo y nodos)"
      ],
      "metadata": {
        "id": "j0jkraNfY9Vq"
      },
      "execution_count": 28,
      "outputs": []
    },
    {
      "cell_type": "code",
      "source": [
        "#Condiciones iniciales\n",
        "Pyac=2000                 #Presion de yacimiento\n",
        "Piz=0                     #Presion frontera izquierda\n",
        "Pder=1000                 #Presion frontera derecha\n",
        "Pin=np.ones(L//dx)        #Crear vector donde se guardara los resultados(condiciones iniciales-1 vector (nodos))\n",
        "Pres=np.zeros(L//dx)\n",
        "#Pres2=np.zeros(L//dx)\n",
        "Pin=Pin*Pyac\n",
        "Pin[0]=Piz                #Definimos Piz como la primera celda\n",
        "Pin[len(Pin)-1]=Pder      #Definimos la longitud de celda -1 ya que Python toma como el inicio a 0\n",
        "Pin"
      ],
      "metadata": {
        "colab": {
          "base_uri": "https://localhost:8080/"
        },
        "id": "YYKKKvmfY-cS",
        "outputId": "0c2a9b4c-ef17-4d3b-cc40-60dd7d55b409"
      },
      "execution_count": 29,
      "outputs": [
        {
          "output_type": "execute_result",
          "data": {
            "text/plain": [
              "array([   0., 2000., 2000., 2000., 2000., 2000., 2000., 2000., 2000.,\n",
              "       2000., 2000., 2000., 2000., 2000., 1000.])"
            ]
          },
          "metadata": {},
          "execution_count": 29
        }
      ]
    },
    {
      "cell_type": "code",
      "source": [
        "t=DT                  #Tiempo que ha tarnscurrido despues del tiempo=0\n",
        "Pexplicita[0]=Pin     #los valores de la columna [0] van a guardarse los valores de Pin\n",
        "while t<Tiempo:       #Ciclo de tiempo, se llena fila 2 3 4 5\n",
        "  for i in range(0,len(Pin)-1): #Ciclo de espacio, q llena los nodos 1 2 3 4 se pone -1 por que no se considera el borde\n",
        "    if i==0:          #i es 0 en la columna donde t es DT\n",
        "      Pres[i]=Pin[0]  #cuando i es 0, Pres es la presion de condicion inicial\n",
        "    elif i==len(Pin)-1: #Ahora llenamos los demas i, sera la longitud -1 python resta 1\n",
        "      Pres[i]=Pin[len(Pin)-1] #Asignamos a Pres el valor anterior\n",
        "    else:\n",
        "      Pres[i]=Presdt(Pin[i-1],Pin[i],Pin[i+1],Eta) #llamamos a la funcion para calculas las preiones futuras con los valores i-1,i,i+1 y eta\n",
        "Pexplicita[t//DT]=Pres #Secuencialmente se va a ir llenando las filas en la matriz explicita\n",
        "t=t+DT                #Aumentamos los DT para que se ejecute los siguientes ciclos\n",
        "Pin=Pres              #El vector in va a ser el resultado que se va obteniendo"
      ],
      "metadata": {
        "id": "mZSBp9TWZJtR"
      },
      "execution_count": null,
      "outputs": []
    },
    {
      "cell_type": "code",
      "source": [
        "Pexplicita"
      ],
      "metadata": {
        "id": "CpqMUMrMZKas"
      },
      "execution_count": null,
      "outputs": []
    },
    {
      "cell_type": "code",
      "source": [
        "import matplotlib.pyplot as plt\n",
        "\n",
        "imgplot = plt.imshow(Pexplicita,aspect='auto')\n",
        "plt.colorbar()"
      ],
      "metadata": {
        "id": "-tJl2CFqYUtf"
      },
      "execution_count": null,
      "outputs": []
    },
    {
      "cell_type": "code",
      "source": [
        "#ESQUEMA IMPLICITO\n",
        "Pimplicita=np.zeros((Tiempo//DT,L//dx))\n",
        "\n",
        "Pin=np.ones(L//dx)\n",
        "Pres=np.zeros(L//dx)\n",
        "Pin=Pin*Pyac\n",
        "Pin[0]=Piz\n",
        "Pin[len(Pin)-1]=Pder\n",
        "N=L//dx\n",
        "Matriz_resolucion=np.zeros([N-2,N-2])"
      ],
      "metadata": {
        "id": "N7soF9QDZNGp"
      },
      "execution_count": null,
      "outputs": []
    },
    {
      "cell_type": "code",
      "source": [
        "for i in range(N-2): #porque siempre se resta 2 al total de la matriz la cantidad de triangulos q tendremos\n",
        "  Matriz_resolucion[i,i]=1+2*Eta #I es igual a J por eso se pone [i,i] - se llena la diagonal (1,2)(2,2)(3,3)(4,4)(5,5) etc\n",
        "  if i>0:\n",
        "    Matriz_resolucion[i,i-1]=-Eta #Llenar los valores a la izquierda de la diagonal con -Eta\n",
        "  if i<(N-3):\n",
        "    Matriz_resolucion[i,i+1]=-Eta #Llenar los valores a la derecha de la diagona N-2 no tiene valores a la derecha pero en N-3 si tiene valores y se pone -eta"
      ],
      "metadata": {
        "id": "eNlV75o5ZQCt"
      },
      "execution_count": null,
      "outputs": []
    },
    {
      "cell_type": "code",
      "source": [
        "Pcal=np.zeros([N-2]) #\n",
        "Pcal=np.linalg.solve(Matriz_resolucion,Pin[1:-1])"
      ],
      "metadata": {
        "id": "MQPofyugZWyx"
      },
      "execution_count": null,
      "outputs": []
    },
    {
      "cell_type": "code",
      "source": [
        "Pcal"
      ],
      "metadata": {
        "id": "-sQafat8ZZQp"
      },
      "execution_count": null,
      "outputs": []
    },
    {
      "cell_type": "code",
      "source": [
        "Pder"
      ],
      "metadata": {
        "id": "HVmLkOwFa04O"
      },
      "execution_count": null,
      "outputs": []
    },
    {
      "cell_type": "code",
      "source": [
        "Pres=np.concatenate(([Piz],Pcal,[Pder]))\n",
        "Pres"
      ],
      "metadata": {
        "id": "cN72BUyma3hC"
      },
      "execution_count": null,
      "outputs": []
    },
    {
      "cell_type": "code",
      "source": [
        "Pimplicita[0]=Pin\n",
        "t=DT\n",
        "while t<Tiempo:\n",
        "  Pcal=np.linalg.solve(Matriz_resolucion,Pin[1:-1])\n",
        "  Pres=np.concatenate(([Piz],Pcal,[Pder]))\n",
        "  Pimplicita[t//DT]=Pres\n",
        "  Pin=Pres\n",
        "  t=t+DT"
      ],
      "metadata": {
        "id": "ClQu11i7a51A"
      },
      "execution_count": null,
      "outputs": []
    },
    {
      "cell_type": "code",
      "source": [
        "i#mport matplotlib.pyplot as plt\n",
        "\n",
        "#imgplot = plt.imshow(Pexplicita,aspect='auto')\n",
        "#plt.colorbar()"
      ],
      "metadata": {
        "id": "SaZ1xAa-a8gV"
      },
      "execution_count": null,
      "outputs": []
    },
    {
      "cell_type": "code",
      "source": [
        "import matplotlib.pyplot as plt\n",
        "\n",
        "imgplot = plt.imshow(Pimplicita,aspect='auto')\n",
        "plt.colorbar()"
      ],
      "metadata": {
        "id": "Cdg0eEoXbH7F"
      },
      "execution_count": null,
      "outputs": []
    },
    {
      "cell_type": "code",
      "source": [],
      "metadata": {
        "id": "jom8oJ42bkPI"
      },
      "execution_count": null,
      "outputs": []
    }
  ]
}