{
  "nbformat": 4,
  "nbformat_minor": 0,
  "metadata": {
    "colab": {
      "provenance": [],
      "authorship_tag": "ABX9TyM9OAic/3SfJ/Sa/PoMU5gA",
      "include_colab_link": true
    },
    "kernelspec": {
      "name": "python3",
      "display_name": "Python 3"
    },
    "language_info": {
      "name": "python"
    }
  },
  "cells": [
    {
      "cell_type": "markdown",
      "metadata": {
        "id": "view-in-github",
        "colab_type": "text"
      },
      "source": [
        "<a href=\"https://colab.research.google.com/github/elfabry88/SIM_YAC_SUAREZ_UPSE2023/blob/main/EJERCICIOS2DIA.ipynb\" target=\"_parent\"><img src=\"https://colab.research.google.com/assets/colab-badge.svg\" alt=\"Open In Colab\"/></a>"
      ]
    },
    {
      "cell_type": "code",
      "execution_count": null,
      "metadata": {
        "id": "v7-Ibec1Ctu2"
      },
      "outputs": [],
      "source": []
    },
    {
      "cell_type": "markdown",
      "source": [],
      "metadata": {
        "id": "FqE0o8gdFsTk"
      }
    },
    {
      "cell_type": "markdown",
      "source": [
        "#SIMULADOR ECUACION DE DIFUSIVIDAD"
      ],
      "metadata": {
        "id": "74eVDOvUFvR8"
      }
    },
    {
      "cell_type": "code",
      "source": [
        "#simulador\n",
        "import numpy as np"
      ],
      "metadata": {
        "id": "tA3RRkmiFqZs"
      },
      "execution_count": null,
      "outputs": []
    },
    {
      "cell_type": "code",
      "source": [
        "P=[0, 4000, 4000, 4000, 0]\n",
        "Nodos=len(P)\n",
        "Nodos2=[0,1,2,3,4]\n",
        "Tiempo=100\n",
        "DT=10\n",
        "dx=200\n",
        "#iniciamos\n",
        "t=DT\n",
        "Pin=P\n",
        "Pin2=Pin #resultados\n",
        "Pdt=[0,0,0,0,0]"
      ],
      "metadata": {
        "id": "hLKcQSL3GJUy"
      },
      "execution_count": null,
      "outputs": []
    },
    {
      "cell_type": "code",
      "source": [
        "def Presdt(P1,P2,P3,deltat,deltax):  \n",
        "  return(((P1-2*P2+P3)/(deltax*deltax))*deltat)+P2"
      ],
      "metadata": {
        "id": "iX7-ATufGJ5T"
      },
      "execution_count": null,
      "outputs": []
    },
    {
      "cell_type": "code",
      "source": [
        "while t<Tiempo:\n",
        "    for i in (Nodos2):\n",
        "       if i==0:\n",
        "        Pdt[i]=P[0]\n",
        "       elif i==len(Nodos2)-1:\n",
        "        Pdt[i]=P[len(Nodos2)-1]\n",
        "       else:\n",
        "        Pdt[i]=Presdt(Pin[i-1],Pin[i],Pin[i+1],DT,dx)\n",
        "    t=t+DT\n",
        "    Pdt=Pin\n",
        "    Pin2=np.append(Pin2,Pdt)"
      ],
      "metadata": {
        "id": "-uAwFuqQGQlt"
      },
      "execution_count": null,
      "outputs": []
    },
    {
      "cell_type": "code",
      "source": [
        "print (Pin2)"
      ],
      "metadata": {
        "colab": {
          "base_uri": "https://localhost:8080/"
        },
        "id": "yOLq9CBQGVnp",
        "outputId": "cbe1030b-693c-4ab7-ed4d-61b3653835a3"
      },
      "execution_count": null,
      "outputs": [
        {
          "output_type": "stream",
          "name": "stdout",
          "text": [
            "[   0.         4000.         4000.         4000.            0.\n",
            "    0.         4000.         4000.         4000.            0.\n",
            "    0.         3999.         3999.99975    3998.99999994    0.\n",
            "    0.         3998.00049994 3999.99900025 3998.00049969    0.\n",
            "    0.         3997.00149944 3999.99775125 3997.00149888    0.\n",
            "    0.         3996.00299813 3999.9960035  3996.00299713    0.\n",
            "    0.         3995.00499563 3999.99375749 3995.00499407    0.\n",
            "    0.         3994.00749157 3999.99101374 3994.00748932    0.\n",
            "    0.         3993.01048558 3999.98777272 3993.01048252    0.\n",
            "    0.         3992.01397728 3999.98403495 3992.01397329    0.        ]\n"
          ]
        }
      ]
    }
  ]
}