{
  "nbformat": 4,
  "nbformat_minor": 0,
  "metadata": {
    "colab": {
      "provenance": [],
      "authorship_tag": "ABX9TyPS266RV1Zp3iUd17kQfTvG",
      "include_colab_link": true
    },
    "kernelspec": {
      "name": "python3",
      "display_name": "Python 3"
    },
    "language_info": {
      "name": "python"
    }
  },
  "cells": [
    {
      "cell_type": "markdown",
      "metadata": {
        "id": "view-in-github",
        "colab_type": "text"
      },
      "source": [
        "<a href=\"https://colab.research.google.com/github/elfabry88/SIM_YAC_SUAREZ_UPSE2023/blob/main/EjercicioUltimoQ.ipynb\" target=\"_parent\"><img src=\"https://colab.research.google.com/assets/colab-badge.svg\" alt=\"Open In Colab\"/></a>"
      ]
    },
    {
      "cell_type": "code",
      "execution_count": null,
      "metadata": {
        "id": "A19_Ebd4TTkV"
      },
      "outputs": [],
      "source": [
        "import numpy as np\n",
        "import math"
      ]
    },
    {
      "cell_type": "code",
      "source": [
        "L=10000\n",
        "dx=250\n",
        "Tiempo=100\n",
        "DT=1\n",
        "K=50 # Permeabilidad en mD \n",
        "Por=0.2\n",
        "vis=1 # Viscosidad en Centipoise\n",
        "Beta=1 #Factor volumetrico\n",
        "CompTotal= 1**-6 #Compresibilidad Total en psi**-1\n",
        "A=200000 #Area ft2"
      ],
      "metadata": {
        "id": "ehDFoek1Unjs"
      },
      "execution_count": null,
      "outputs": []
    },
    {
      "cell_type": "code",
      "source": [
        "Alpha=K/(vis*Por*CompTotal)\n",
        "Alpha\n",
        "Eta=Alpha*DT/dx**2\n",
        "Eta"
      ],
      "metadata": {
        "id": "H-72opLXUrHj"
      },
      "execution_count": null,
      "outputs": []
    },
    {
      "cell_type": "code",
      "source": [
        "#Condiciones iniciales\n",
        "Pyac=1000\n",
        "Piz=500\n",
        "Pder=0\n",
        "Pin=np.ones((L//dx)+2)\n",
        "Pres=np.zeros((L//dx)+2)\n",
        "Pres2=np.zeros((L//dx)+2)\n",
        "Pin=Pin*Pyac\n",
        "Pin[0]=2*Piz-Pin[1]\n",
        "Pin[len(Pin)-1]=2*Pder-Pin[len(Pin)-2]\n",
        "Pin.shape"
      ],
      "metadata": {
        "id": "LL8zq_smVt6P"
      },
      "execution_count": null,
      "outputs": []
    },
    {
      "cell_type": "code",
      "source": [
        "#Esquema Implicito\n",
        "Qimplicita=np.zeros((Tiempo//DT,(L//dx)))\n",
        "\n",
        "Pin=np.ones((L//dx)+2)\n",
        "Qres=np.zeros((L//dx))\n",
        "Pin=Pin*Pyac\n",
        "Pin[0]=Piz\n",
        "Pin[len(Pin)-1]=Pder\n",
        "N=(L//dx)+2\n",
        "Baccumul=A*dx*por*CompTotal/Beta\n",
        "Transmisibilidad=K*A/(vis*Beta*dx)\n",
        "B=np.zeros([N-2,N-2])\n",
        "T=np.zeros([N-2,N-2])"
      ],
      "metadata": {
        "id": "LFQb3X-UfmVt"
      },
      "execution_count": null,
      "outputs": []
    },
    {
      "cell_type": "code",
      "source": [
        "for i in range(0,N-2):\n",
        "  B[i,i]=Baccumul\n",
        "\n",
        "\n",
        "for i in range(0,N-2):\n",
        "  T[i,i]=2*Transmisibilidad\n",
        "  if i>0:\n",
        "    T[i,i-1]=-Transmisibilidad\n",
        "  if i<(N-3):\n",
        "    T[i,i+1]=-Transmisibilidad\n",
        "T[0,0]=3*Transmisibilidad\n",
        "T[N-3,N-3]=Transmisibilidad"
      ],
      "metadata": {
        "id": "uuqZ-IceftJT"
      },
      "execution_count": null,
      "outputs": []
    },
    {
      "cell_type": "code",
      "source": [
        "Matriz_resolucion=np.zeros_like(T)\n",
        "Vector_sol=np.zeros_like(Pin[1:-1])\n",
        "Matriz_resolucion=T+(B/DT)\n",
        "Vector_sol=np.matmul(B/DT,Pin[1:-1])\n",
        "Vector_sol=Vector_sol\n",
        "Q=np.zeros_like(Vector_sol)\n",
        "Q[0]=2*Transmisibilidad*Piz\n",
        "Vector_sol=Vector_sol+Q"
      ],
      "metadata": {
        "id": "LzwJDQUXfwY9"
      },
      "execution_count": null,
      "outputs": []
    },
    {
      "cell_type": "code",
      "source": [
        "Qcal=np.linalg.solve(Matriz_resolucion,Vector_sol)"
      ],
      "metadata": {
        "id": "aGcmNnMVfzVL"
      },
      "execution_count": null,
      "outputs": []
    },
    {
      "cell_type": "code",
      "source": [
        "Vector_sol"
      ],
      "metadata": {
        "id": "xHvzrZsVf1US"
      },
      "execution_count": null,
      "outputs": []
    },
    {
      "cell_type": "code",
      "source": [
        "Qimplicita[0]=Vector_sol\n",
        "t=DT\n",
        "while t<Tiempo:\n",
        "  Qcal=np.linalg.solve(Matriz_resolucion,Vector_sol)\n",
        "  Qimplicita[t//DT]=Qcal\n",
        "  Vector_sol=Qcal\n",
        "  t=t+DT"
      ],
      "metadata": {
        "id": "UdoIX3B4f3ts"
      },
      "execution_count": null,
      "outputs": []
    },
    {
      "cell_type": "code",
      "source": [
        "Qimplicita[0]=Vector_sol\n",
        "Qimplicita[2]"
      ],
      "metadata": {
        "id": "b0RuFRJSf6ya"
      },
      "execution_count": null,
      "outputs": []
    },
    {
      "cell_type": "code",
      "source": [
        "import matplotlib.pyplot as plt\n",
        "\n",
        "imgplot = plt.imshow(Qimplicita,aspect='auto')\n",
        "plt.colorbar()"
      ],
      "metadata": {
        "id": "ofN8fSDqf8xn"
      },
      "execution_count": null,
      "outputs": []
    }
  ]
}